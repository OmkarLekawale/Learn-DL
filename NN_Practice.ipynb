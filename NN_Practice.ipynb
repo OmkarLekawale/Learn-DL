{
 "cells": [
  {
   "cell_type": "code",
   "execution_count": 268,
   "id": "82c77ca3",
   "metadata": {},
   "outputs": [],
   "source": [
    "import numpy as np\n",
    "import torch\n",
    "import torch.nn as nn\n",
    "import torch.optim as optim\n",
    "from sklearn.datasets import load_breast_cancer\n",
    "import pandas as pd\n",
    "import matplotlib.pyplot as plt\n",
    "from sklearn.model_selection import train_test_split"
   ]
  },
  {
   "cell_type": "code",
   "execution_count": 269,
   "id": "2e1b8352",
   "metadata": {},
   "outputs": [
    {
     "name": "stdout",
     "output_type": "stream",
     "text": [
      "2.0.1+cpu\n"
     ]
    }
   ],
   "source": [
    "print(torch.__version__)"
   ]
  },
  {
   "cell_type": "code",
   "execution_count": 270,
   "id": "4c77bf95",
   "metadata": {},
   "outputs": [
    {
     "name": "stdout",
     "output_type": "stream",
     "text": [
      "torch.Size([569, 30]) torch.Size([569, 1])\n"
     ]
    }
   ],
   "source": [
    "data=load_breast_cancer()\n",
    "X = torch.tensor(data.data, dtype=torch.float32)\n",
    "y = torch.tensor(data.target, dtype=torch.float32).reshape(-1, 1)\n",
    "print(X.shape,y.shape)"
   ]
  },
  {
   "cell_type": "code",
   "execution_count": 271,
   "id": "8806dc48",
   "metadata": {},
   "outputs": [
    {
     "name": "stdout",
     "output_type": "stream",
     "text": [
      "torch.Size([455, 30]) torch.Size([455, 1])\n"
     ]
    }
   ],
   "source": [
    "X_train, X_test, y_train, y_test=train_test_split(X,y,test_size=0.2, random_state=4)\n",
    "X=X_train\n",
    "y=y_train\n",
    "print(X.shape,y.shape)"
   ]
  },
  {
   "cell_type": "code",
   "execution_count": 272,
   "id": "54381a76",
   "metadata": {},
   "outputs": [
    {
     "name": "stdout",
     "output_type": "stream",
     "text": [
      "CancerClassifier(\n",
      "  (hidden): Linear(in_features=30, out_features=30, bias=True)\n",
      "  (act): ReLU()\n",
      "  (output): Linear(in_features=30, out_features=1, bias=True)\n",
      "  (act_output): Sigmoid()\n",
      ")\n"
     ]
    }
   ],
   "source": [
    "class CancerClassifier(nn.Module):\n",
    "    def __init__(self, num_layers=10):\n",
    "        super().__init__()\n",
    "        self.hidden = nn.Linear(30, 30)\n",
    "        self.act = nn.ReLU()\n",
    "        self.output = nn.Linear(30, 1)\n",
    "        self.act_output = nn.Sigmoid()\n",
    "        self.num_layers = num_layers\n",
    "\n",
    "    def forward(self, x):\n",
    "        for _ in range(self.num_layers):\n",
    "            x = self.act(self.hidden(x))\n",
    "        x = self.act_output(self.output(x))\n",
    "        return x\n",
    "    \n",
    "model = CancerClassifier(3)\n",
    "print(model)"
   ]
  },
  {
   "cell_type": "code",
   "execution_count": 273,
   "id": "27fb9615",
   "metadata": {},
   "outputs": [
    {
     "name": "stdout",
     "output_type": "stream",
     "text": [
      "CancerClassifier(\n",
      "  (hidden): Linear(in_features=30, out_features=30, bias=True)\n",
      "  (act): ReLU()\n",
      "  (output): Linear(in_features=30, out_features=1, bias=True)\n",
      "  (act_output): Sigmoid()\n",
      ")\n"
     ]
    }
   ],
   "source": [
    "model = CancerClassifier()\n",
    "print(model)"
   ]
  },
  {
   "cell_type": "code",
   "execution_count": 274,
   "id": "92e7fc97",
   "metadata": {},
   "outputs": [],
   "source": [
    "loss_fn = nn.BCELoss()\n",
    "optimizer = optim.Adam(model.parameters(), lr=0.001)"
   ]
  },
  {
   "cell_type": "code",
   "execution_count": 275,
   "id": "8c553abe",
   "metadata": {},
   "outputs": [],
   "source": [
    "x_plt=[i for i in range(1,101)]\n",
    "y_plt=[]"
   ]
  },
  {
   "cell_type": "code",
   "execution_count": 276,
   "id": "3b2b01cc",
   "metadata": {},
   "outputs": [
    {
     "name": "stdout",
     "output_type": "stream",
     "text": [
      "Finished epoch 0, latest loss 0.6786196827888489\n",
      "Finished epoch 1, latest loss 0.48238715529441833\n",
      "Finished epoch 2, latest loss 0.039198242127895355\n",
      "Finished epoch 3, latest loss 0.07907944172620773\n",
      "Finished epoch 4, latest loss 0.044454045593738556\n",
      "Finished epoch 5, latest loss 0.03472236171364784\n",
      "Finished epoch 6, latest loss 0.04299702122807503\n",
      "Finished epoch 7, latest loss 0.04803904891014099\n",
      "Finished epoch 8, latest loss 0.038424134254455566\n",
      "Finished epoch 9, latest loss 0.035277873277664185\n",
      "Finished epoch 10, latest loss 0.03470556065440178\n",
      "Finished epoch 11, latest loss 0.03458944335579872\n",
      "Finished epoch 12, latest loss 0.02321498468518257\n",
      "Finished epoch 13, latest loss 0.03975658863782883\n",
      "Finished epoch 14, latest loss 0.040116358548402786\n",
      "Finished epoch 15, latest loss 0.042237620800733566\n",
      "Finished epoch 16, latest loss 0.03136782720685005\n",
      "Finished epoch 17, latest loss 0.03376694768667221\n",
      "Finished epoch 18, latest loss 0.038557760417461395\n",
      "Finished epoch 19, latest loss 0.039395056664943695\n",
      "Finished epoch 20, latest loss 0.051608890295028687\n",
      "Finished epoch 21, latest loss 0.04200947284698486\n",
      "Finished epoch 22, latest loss 0.025205090641975403\n",
      "Finished epoch 23, latest loss 0.037566836923360825\n",
      "Finished epoch 24, latest loss 0.014632074162364006\n",
      "Finished epoch 25, latest loss 0.014447283931076527\n",
      "Finished epoch 26, latest loss 0.007870804518461227\n",
      "Finished epoch 27, latest loss 0.012255055829882622\n",
      "Finished epoch 28, latest loss 0.009026234038174152\n",
      "Finished epoch 29, latest loss 0.011330662295222282\n",
      "Finished epoch 30, latest loss 0.020008066669106483\n",
      "Finished epoch 31, latest loss 0.01060069352388382\n",
      "Finished epoch 32, latest loss 0.021788548678159714\n",
      "Finished epoch 33, latest loss 0.01580844819545746\n",
      "Finished epoch 34, latest loss 0.018368683755397797\n",
      "Finished epoch 35, latest loss 0.018526386469602585\n",
      "Finished epoch 36, latest loss 0.018531013280153275\n",
      "Finished epoch 37, latest loss 0.008166199550032616\n",
      "Finished epoch 38, latest loss 0.022125357761979103\n",
      "Finished epoch 39, latest loss 0.019673626869916916\n",
      "Finished epoch 40, latest loss 0.01764388009905815\n",
      "Finished epoch 41, latest loss 0.02541395090520382\n",
      "Finished epoch 42, latest loss 0.0302385576069355\n",
      "Finished epoch 43, latest loss 0.024492185562849045\n",
      "Finished epoch 44, latest loss 0.018552547320723534\n",
      "Finished epoch 45, latest loss 0.020123500376939774\n",
      "Finished epoch 46, latest loss 0.02021435648202896\n",
      "Finished epoch 47, latest loss 0.023342590779066086\n",
      "Finished epoch 48, latest loss 0.028165871277451515\n",
      "Finished epoch 49, latest loss 0.020196449011564255\n",
      "Finished epoch 50, latest loss 0.022869335487484932\n",
      "Finished epoch 51, latest loss 0.02379106730222702\n",
      "Finished epoch 52, latest loss 0.03195171430706978\n",
      "Finished epoch 53, latest loss 0.023944448679685593\n",
      "Finished epoch 54, latest loss 0.021095791831612587\n",
      "Finished epoch 55, latest loss 0.021079938858747482\n",
      "Finished epoch 56, latest loss 0.01885591447353363\n",
      "Finished epoch 57, latest loss 0.017798954620957375\n",
      "Finished epoch 58, latest loss 0.02498311921954155\n",
      "Finished epoch 59, latest loss 0.024789264425635338\n",
      "Finished epoch 60, latest loss 0.023360002785921097\n",
      "Finished epoch 61, latest loss 0.029109856113791466\n",
      "Finished epoch 62, latest loss 0.022656286135315895\n",
      "Finished epoch 63, latest loss 0.018903547897934914\n",
      "Finished epoch 64, latest loss 0.022265546023845673\n",
      "Finished epoch 65, latest loss 0.021148357540369034\n",
      "Finished epoch 66, latest loss 0.024800362065434456\n",
      "Finished epoch 67, latest loss 0.04227818548679352\n",
      "Finished epoch 68, latest loss 0.026503439992666245\n",
      "Finished epoch 69, latest loss 0.02356078289449215\n",
      "Finished epoch 70, latest loss 0.02227040007710457\n",
      "Finished epoch 71, latest loss 0.02554372325539589\n",
      "Finished epoch 72, latest loss 0.02523445151746273\n",
      "Finished epoch 73, latest loss 0.01736230030655861\n",
      "Finished epoch 74, latest loss 0.02648264542222023\n",
      "Finished epoch 75, latest loss 0.026141991838812828\n",
      "Finished epoch 76, latest loss 0.02764904871582985\n",
      "Finished epoch 77, latest loss 0.029736211523413658\n",
      "Finished epoch 78, latest loss 0.02834818698465824\n",
      "Finished epoch 79, latest loss 0.027443069964647293\n",
      "Finished epoch 80, latest loss 0.02776218391954899\n",
      "Finished epoch 81, latest loss 0.029143324121832848\n",
      "Finished epoch 82, latest loss 0.025533761829137802\n",
      "Finished epoch 83, latest loss 0.029248973354697227\n",
      "Finished epoch 84, latest loss 0.024394746869802475\n",
      "Finished epoch 85, latest loss 0.03911363705992699\n",
      "Finished epoch 86, latest loss 0.02375047095119953\n",
      "Finished epoch 87, latest loss 0.024980289861559868\n",
      "Finished epoch 88, latest loss 0.016680363565683365\n",
      "Finished epoch 89, latest loss 0.01913480833172798\n",
      "Finished epoch 90, latest loss 0.028493156656622887\n",
      "Finished epoch 91, latest loss 0.03458336740732193\n",
      "Finished epoch 92, latest loss 0.035913851112127304\n",
      "Finished epoch 93, latest loss 0.03556229919195175\n",
      "Finished epoch 94, latest loss 0.03438388556241989\n",
      "Finished epoch 95, latest loss 0.028527487069368362\n",
      "Finished epoch 96, latest loss 0.01258941926062107\n",
      "Finished epoch 97, latest loss 0.02803885005414486\n",
      "Finished epoch 98, latest loss 0.04758216068148613\n",
      "Finished epoch 99, latest loss 0.025406036525964737\n"
     ]
    }
   ],
   "source": [
    "for epoch in range(n_epochs):\n",
    "    for i in range(0, len(X), batch_size):\n",
    "        Xbatch = X[i:i+batch_size]\n",
    "        y_pred = model(Xbatch)\n",
    "        ybatch = y[i:i+batch_size]\n",
    "        loss = loss_fn(y_pred, ybatch)\n",
    "        optimizer.zero_grad()\n",
    "        loss.backward()\n",
    "        optimizer.step()\n",
    "    print(f'Finished epoch {epoch}, latest loss {loss.item()}')\n",
    "    y_plt.append(loss.item())"
   ]
  },
  {
   "cell_type": "code",
   "execution_count": 277,
   "id": "13caa63b",
   "metadata": {},
   "outputs": [
    {
     "data": {
      "image/png": "[encoded data removed]",
      "text/plain": [
       "<Figure size 640x480 with 1 Axes>"
      ]
     },
     "metadata": {},
     "output_type": "display_data"
    }
   ],
   "source": [
    "plt.plot(x_plt,y_plt)\n",
    "plt.show()"
   ]
  },
  {
   "cell_type": "code",
   "execution_count": 278,
   "id": "0481ec27",
   "metadata": {},
   "outputs": [
    {
     "name": "stdout",
     "output_type": "stream",
     "text": [
      "Accuracy 0.8947368264198303\n"
     ]
    }
   ],
   "source": [
    "# # compute accuracy (no_grad is optional)\n",
    "# with torch.no_grad():\n",
    "y_pred = model(X_test)\n",
    " \n",
    "accuracy = (y_pred.round() == y_test).float().mean()\n",
    "print(f\"Accuracy {accuracy}\")"
   ]
  },
  {
   "cell_type": "code",
   "execution_count": 279,
   "id": "209a3fea",
   "metadata": {},
   "outputs": [],
   "source": [
    "# a=torch.tensor([0],dtype=torch.float32)\n",
    "# b=torch.tensor([1],dtype=torch.float32)\n",
    "# nn.BCELoss()(a,b)"
   ]
  }
 ],
 "metadata": {
  "kernelspec": {
   "display_name": "Python 3 (ipykernel)",
   "language": "python",
   "name": "python3"
  },
  "language_info": {
   "codemirror_mode": {
    "name": "ipython",
    "version": 3
   },
   "file_extension": ".py",
   "mimetype": "text/x-python",
   "name": "python",
   "nbconvert_exporter": "python",
   "pygments_lexer": "ipython3",
   "version": "3.9.10"
  }
 },
 "nbformat": 4,
 "nbformat_minor": 5
}
